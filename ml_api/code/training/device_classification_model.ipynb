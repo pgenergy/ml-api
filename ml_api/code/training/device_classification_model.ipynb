{
 "cells": [
  {
   "cell_type": "code",
   "execution_count": null,
   "metadata": {},
   "outputs": [],
   "source": [
    "from sklearn.svm import SVC\n",
    "from sklearn.model_selection import train_test_split\n",
    "from sklearn.metrics import accuracy_score\n",
    "import pandas as pd\n",
    "import matplotlib.pyplot as plt"
   ]
  },
  {
   "cell_type": "code",
   "execution_count": null,
   "metadata": {},
   "outputs": [],
   "source": [
    "pathToData = \"./Device_Consumptions/\""
   ]
  },
  {
   "cell_type": "markdown",
   "metadata": {},
   "source": [
    "### Data Preparation"
   ]
  },
  {
   "cell_type": "code",
   "execution_count": null,
   "metadata": {},
   "outputs": [],
   "source": [
    "freezer = pd.read_csv(pathToData+\"freezer_249.csv\", nrows=100000)\n",
    "freezer['consumption_type'] = 'freezer'"
   ]
  },
  {
   "cell_type": "code",
   "execution_count": null,
   "metadata": {},
   "outputs": [],
   "source": [
    "freezer_subset = freezer.head(1000)\n",
    "plt.figure(figsize=(10, 6))\n",
    "plt.plot(freezer_subset['power'], color='blue', marker='o', linestyle='-')\n",
    "plt.title('Stromverbrauch des Gefrierschranks')\n",
    "plt.xlabel('Timestamp')\n",
    "plt.ylabel('Stromverbrauch (kWh)')\n",
    "plt.xticks(rotation=45)\n",
    "plt.grid(True)\n",
    "plt.tight_layout()\n",
    "plt.show()"
   ]
  },
  {
   "cell_type": "code",
   "execution_count": null,
   "metadata": {},
   "outputs": [],
   "source": [
    "fridge = pd.read_csv(pathToData+\"fridge_98.csv\", nrows=100000)\n",
    "fridge['consumption_type'] = 'fridge'"
   ]
  },
  {
   "cell_type": "code",
   "execution_count": null,
   "metadata": {},
   "outputs": [],
   "source": [
    "fridge_subset = fridge.head(100000)\n",
    "plt.figure(figsize=(10, 6))\n",
    "plt.plot(fridge_subset['power'], color='blue', marker='o', linestyle='-')\n",
    "plt.title('Stromverbrauch des Kühlschranks')\n",
    "plt.xlabel('Timestamp')\n",
    "plt.ylabel('Stromverbrauch (kWh)')\n",
    "plt.xticks(rotation=45) \n",
    "plt.grid(True)\n",
    "plt.tight_layout()\n",
    "plt.show()"
   ]
  },
  {
   "cell_type": "code",
   "execution_count": null,
   "metadata": {},
   "outputs": [],
   "source": [
    "micro_wave = pd.read_csv(pathToData+\"micro_wave_oven_314.csv\", nrows=100000)\n",
    "micro_wave['consumption_type'] = 'micro_wave'"
   ]
  },
  {
   "cell_type": "code",
   "execution_count": null,
   "metadata": {},
   "outputs": [],
   "source": [
    "micro_wave_subset = micro_wave.head(100000)\n",
    "plt.figure(figsize=(10, 6))\n",
    "plt.plot(micro_wave_subset['power'], color='blue', marker='o', linestyle='-')\n",
    "plt.title('Stromverbrauch der Mikrowelle')\n",
    "plt.xlabel('Timestamp')\n",
    "plt.ylabel('Stromverbrauch (kWh)')\n",
    "plt.xticks(rotation=45)\n",
    "plt.grid(True)\n",
    "plt.tight_layout()\n",
    "plt.show()"
   ]
  },
  {
   "cell_type": "code",
   "execution_count": null,
   "metadata": {},
   "outputs": [],
   "source": [
    "router = pd.read_csv(pathToData+\"internet_router_131.csv\", nrows=100000)\n",
    "router['consumption_type'] = 'router'\n",
    "router"
   ]
  },
  {
   "cell_type": "code",
   "execution_count": null,
   "metadata": {},
   "outputs": [],
   "source": [
    "router_subset = router.head(100000)\n",
    "plt.figure(figsize=(10, 6))\n",
    "plt.plot(router['power'], color='blue', marker='o', linestyle='-')\n",
    "plt.title('Stromverbrauch des Routers')\n",
    "plt.xlabel('Timestamp')\n",
    "plt.ylabel('Stromverbrauch (kWh)')\n",
    "plt.xticks(rotation=45)\n",
    "plt.grid(True)\n",
    "plt.tight_layout()\n",
    "plt.show()"
   ]
  },
  {
   "cell_type": "code",
   "execution_count": null,
   "metadata": {},
   "outputs": [],
   "source": [
    "boiler = pd.read_csv(pathToData+\"boiler_217.csv\", nrows=100000)\n",
    "boiler['consumption_type'] = 'boiler'"
   ]
  },
  {
   "cell_type": "code",
   "execution_count": null,
   "metadata": {},
   "outputs": [],
   "source": [
    "boiler_subset = boiler.head(100000)\n",
    "plt.figure(figsize=(10, 6))\n",
    "plt.plot(boiler['power'], color='blue', marker='o', linestyle='-')\n",
    "plt.title('Stromverbrauch des Boilers')\n",
    "plt.xlabel('Timestamp')\n",
    "plt.ylabel('Stromverbrauch (kWh)')\n",
    "plt.xticks(rotation=45)\n",
    "plt.grid(True)\n",
    "plt.tight_layout()\n",
    "plt.show()"
   ]
  },
  {
   "cell_type": "code",
   "execution_count": null,
   "metadata": {},
   "outputs": [],
   "source": [
    "dryer = pd.read_csv(pathToData+\"dryer_219.csv\", nrows=100000)\n",
    "dryer['consumption_type'] = 'dryer'"
   ]
  },
  {
   "cell_type": "code",
   "execution_count": null,
   "metadata": {},
   "outputs": [],
   "source": [
    "dryer_subset = dryer.head(100000)\n",
    "plt.figure(figsize=(10, 6))\n",
    "plt.plot(dryer['power'], color='blue', marker='o', linestyle='-')\n",
    "plt.title('Stromverbrauch des Trockners')\n",
    "plt.xlabel('Timestamp')\n",
    "plt.ylabel('Stromverbrauch (kWh)')\n",
    "plt.xticks(rotation=45)\n",
    "plt.grid(True)\n",
    "plt.tight_layout()\n",
    "plt.show()"
   ]
  },
  {
   "cell_type": "code",
   "execution_count": null,
   "metadata": {},
   "outputs": [],
   "source": [
    "washing_machine = pd.read_csv(pathToData+\"washing_machine_52.csv\", nrows=100000)\n",
    "washing_machine['consumption_type'] = 'washing_machine'"
   ]
  },
  {
   "cell_type": "code",
   "execution_count": null,
   "metadata": {},
   "outputs": [],
   "source": [
    "washing_machine = washing_machine.head(100000)\n",
    "plt.figure(figsize=(10, 6))\n",
    "plt.plot(washing_machine['power'], color='blue', marker='o', linestyle='-')\n",
    "plt.title('Stromverbrauch der Waschmaschine')\n",
    "plt.xlabel('Timestamp')\n",
    "plt.ylabel('Stromverbrauch (kWh)')\n",
    "plt.xticks(rotation=45)\n",
    "plt.grid(True)\n",
    "plt.tight_layout()\n",
    "plt.show()"
   ]
  },
  {
   "cell_type": "code",
   "execution_count": null,
   "metadata": {},
   "outputs": [],
   "source": [
    "data = pd.concat([freezer, fridge, micro_wave, router, boiler, dryer, washing_machine])"
   ]
  },
  {
   "cell_type": "code",
   "execution_count": null,
   "metadata": {},
   "outputs": [],
   "source": [
    "data['timestamp'] = pd.to_datetime(data['timestamp'])\n",
    "\n",
    "data['Year'] = data['timestamp'].dt.year\n",
    "data['Month'] = data['timestamp'].dt.month\n",
    "data['Date'] = data['timestamp'].dt.day\n",
    "data['Hour'] = data['timestamp'].dt.hour\n",
    "data['Minute'] = data['timestamp'].dt.minute\n",
    "data['Second'] = data['timestamp'].dt.second\n",
    "\n",
    "data['previous_power'] = data['power'].shift(1).fillna(0)"
   ]
  },
  {
   "cell_type": "code",
   "execution_count": null,
   "metadata": {},
   "outputs": [],
   "source": [
    "X = data[[\"Year\", \"Month\", \"Date\", \"Hour\", \"Minute\", \"Second\", \"power\", \"previous_power\"]]\n",
    "y = data[\"consumption_type\"]"
   ]
  },
  {
   "cell_type": "markdown",
   "metadata": {},
   "source": [
    "### Training"
   ]
  },
  {
   "cell_type": "code",
   "execution_count": null,
   "metadata": {},
   "outputs": [],
   "source": [
    "X_train, X_test, y_train, y_test = train_test_split(X, y, test_size=0.2, random_state=42)"
   ]
  },
  {
   "cell_type": "code",
   "execution_count": null,
   "metadata": {},
   "outputs": [],
   "source": [
    "svm_model = SVC(kernel='linear', probability=True, decision_function_shape='ovr')\n",
    "svm_model.fit(X_train, y_train)"
   ]
  },
  {
   "cell_type": "markdown",
   "metadata": {},
   "source": [
    "### Prediction"
   ]
  },
  {
   "cell_type": "code",
   "execution_count": null,
   "metadata": {},
   "outputs": [],
   "source": [
    "predictions = svm_model.predict(X_test)"
   ]
  },
  {
   "cell_type": "markdown",
   "metadata": {},
   "source": [
    "### Evaluation"
   ]
  },
  {
   "cell_type": "code",
   "execution_count": null,
   "metadata": {},
   "outputs": [],
   "source": [
    "accuracy = accuracy_score(y_test, predictions)\n",
    "print(\"Genauigkeit des Modells: {:.2f}%\".format(accuracy * 100))"
   ]
  },
  {
   "cell_type": "code",
   "execution_count": null,
   "metadata": {},
   "outputs": [],
   "source": [
    "new_data = pd.DataFrame({\n",
    "    'Timestamp': ['2024-04-17 08:00:00', '2024-04-17 09:00:00', '2024-04-17 10:00:00', '2022-01-10 05:05:05'],\n",
    "    'Year': [2024, 2024, 2024, 2024],\n",
    "    'Month': [4, 4, 4, 1],\n",
    "    'Date': [17, 17, 17, 10],\n",
    "    'Hour': [8, 9, 10, 5],\n",
    "    'Minute': [0, 0, 0, 5],\n",
    "    'Second': [0, 0, 0, 5],\n",
    "    'power': [0.5, 1.2, 10.8, 5.0],\n",
    "    'previous_power': [0.0, 0.5, 1.2, 10.8]\n",
    "})"
   ]
  },
  {
   "cell_type": "code",
   "execution_count": null,
   "metadata": {},
   "outputs": [],
   "source": [
    "new_data['Year'] = pd.to_datetime(new_data['Timestamp']).dt.year\n",
    "new_data['Month'] = pd.to_datetime(new_data['Timestamp']).dt.month\n",
    "new_data['Date'] = pd.to_datetime(new_data['Timestamp']).dt.day\n",
    "new_data['Hour'] = pd.to_datetime(new_data['Timestamp']).dt.hour\n",
    "new_data['Minute'] = pd.to_datetime(new_data['Timestamp']).dt.minute\n",
    "new_data['Second'] = pd.to_datetime(new_data['Timestamp']).dt.second\n",
    "\n",
    "new_data.drop(columns=['Timestamp'], inplace=True)"
   ]
  },
  {
   "cell_type": "code",
   "execution_count": null,
   "metadata": {},
   "outputs": [],
   "source": [
    "predictions_prob = svm_model.predict_proba(new_data)"
   ]
  },
  {
   "cell_type": "code",
   "execution_count": null,
   "metadata": {},
   "outputs": [],
   "source": [
    "for i, probs in enumerate(predictions_prob):\n",
    "    max_prob = max(probs)  # Höchste Wahrscheinlichkeit für diese Vorhersage\n",
    "    predicted_class = svm_model.classes_[probs.argmax()]  # Vorhergesagte Klasse mit höchster Wahrscheinlichkeit\n",
    "    print(\"Vorhersage für Zeitpunkt {}: {} mit Genauigkeit {:.2f}%\".format(i+1, predicted_class, max_prob*100))\n",
    "    print(new_data['Year'][i])"
   ]
  },
  {
   "cell_type": "code",
   "execution_count": null,
   "metadata": {},
   "outputs": [],
   "source": [
    "threshold = 0.1\n",
    "\n",
    "for i, probs in enumerate(predictions_prob):\n",
    "    selected_classes = [svm_model.classes_[j] for j, prob in enumerate(probs) if prob > threshold]\n",
    "    \n",
    "    if selected_classes:\n",
    "        print(\"Vorhersage für Datenpunkt {}: {} mit Genauigkeit {:.2f}%\".format(i+1, selected_classes, max(probs)*100))\n",
    "    else:\n",
    "        print(\"Keine Vorhersage über dem Schwellenwert für Datenpunkt {}\".format(i+1))"
   ]
  }
 ],
 "metadata": {
  "language_info": {
   "name": "python"
  }
 },
 "nbformat": 4,
 "nbformat_minor": 2
}
